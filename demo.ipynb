{
 "cells": [
  {
   "cell_type": "markdown",
   "metadata": {},
   "source": [
    "# Catscatter demo\n",
    "- original by Myriam Barnes in TowardsDataScience.com\n",
    "- visualizes relations between category variables in scatterplot form."
   ]
  },
  {
   "cell_type": "code",
   "execution_count": 12,
   "metadata": {},
   "outputs": [],
   "source": [
    "%matplotlib inline"
   ]
  },
  {
   "cell_type": "code",
   "execution_count": 15,
   "metadata": {},
   "outputs": [],
   "source": [
    "import pandas as pd\n",
    "import matplotlib.pyplot as plt\n",
    "\n",
    "def scatter_matrix(\n",
    "    df,\n",
    "    colx,coly,\n",
    "    cols,\n",
    "    color=['grey','black'],\n",
    "    ratio=50,\n",
    "    #font='Helvetica',\n",
    "    save=False,\n",
    "    save_name='Default'):\n",
    "    '''\n",
    "    Goal: This function create an scatter plot for categorical variables. It's useful to compare two lists with elements in common.\n",
    "    Input:\n",
    "        - df: required. pandas DataFrame with at least two columns with categorical variables you want to relate, and the value of both (if it's just an adjacent matrix write 1)\n",
    "        - colx: required. The name of the column to display horizontaly\n",
    "        - coly: required. The name of the column to display vertically\n",
    "        - cols: required. The name of the column with the value between the two variables\n",
    "        - color: optional. Colors to display in the visualization, the length can be two or three. The two first are the colors for the lines in the matrix, the last one the font color and markers color.\n",
    "            default ['grey','black']\n",
    "        - ratio: optional. A ratio for controlling the relative size of the markers.\n",
    "            default 10\n",
    "        - font: optional. The font for the ticks on the matrix. default 'Helvetica'\n",
    "        - save: optional. True = save image in the same path as the code. default False\n",
    "        - save_name: optional. The name used for saving the image (then the code ads .png)\n",
    "            default: \"Default\"\n",
    "    Output:\n",
    "        No output. Matplotlib object is not shown by default to be able to add more changes.\n",
    "    '''\n",
    "    # Create a dict to encode the categeories into numbers (sorted)\n",
    "    colx_codes=dict(\n",
    "        zip(df[colx].sort_values().unique(),\n",
    "            range(len(df[colx].unique()))))\n",
    "    \n",
    "    coly_codes=dict(\n",
    "        zip(df[coly].sort_values(ascending=False).unique(),\n",
    "            range(len(df[coly].unique()))))\n",
    "    \n",
    "    # Apply the encoding\n",
    "    df[colx]=df[colx].apply(lambda x: colx_codes[x])\n",
    "    df[coly]=df[coly].apply(lambda x: coly_codes[x])\n",
    "    \n",
    "    # Prepare the aspect of the plot\n",
    "    plt.rcParams['xtick.bottom']    = plt.rcParams['xtick.labelbottom'] = False\n",
    "    plt.rcParams['xtick.top']       = plt.rcParams['xtick.labeltop'] = True\n",
    "    #plt.rcParams['font.sans-serif'] =font\n",
    "    plt.rcParams['xtick.color']     =color[-1]\n",
    "    plt.rcParams['ytick.color']     =color[-1]\n",
    "    #plt.box(False)\n",
    "\n",
    "    \n",
    "    # Plot all the lines for the background\n",
    "    for num in range(len(coly_codes)):\n",
    "        plt.hlines(\n",
    "            num,-1,\n",
    "            len(colx_codes)+1,\n",
    "            linestyle='dashed',\n",
    "            linewidth=1,\n",
    "            color=color[num%2],alpha=0.5)\n",
    "        \n",
    "    for num in range(len(colx_codes)):\n",
    "        plt.vlines(num,-1,\n",
    "                   len(coly_codes)+1,\n",
    "                   linestyle='dashed',\n",
    "                   linewidth=1,\n",
    "                   color=color[num%2],\n",
    "                   alpha=0.5)\n",
    "        \n",
    "    # Plot the scatter plot with the numbers\n",
    "    plt.scatter(df[colx],\n",
    "               df[coly],\n",
    "               s=df[cols]*ratio,\n",
    "               zorder=2,\n",
    "               color=color[-1])\n",
    "    \n",
    "    # Change the ticks numbers to categories and limit them\n",
    "    plt.xticks(\n",
    "        ticks=list(colx_codes.values()),\n",
    "        labels=colx_codes.keys(),\n",
    "        rotation=90)\n",
    "\n",
    "    plt.yticks(\n",
    "        ticks=list(coly_codes.values()),\n",
    "        labels=coly_codes.keys())\n",
    "    \n",
    "    plt.xlim(\n",
    "        xmin=-1,\n",
    "        xmax=len(colx_codes))\n",
    "    \n",
    "    plt.ylim(\n",
    "        ymin=-1,\n",
    "        ymax=len(coly_codes))\n",
    "    \n",
    "    # Save if wanted\n",
    "    if save:\n",
    "        plt.savefig(save_name+'.png')"
   ]
  },
  {
   "cell_type": "code",
   "execution_count": 16,
   "metadata": {},
   "outputs": [
    {
     "data": {
      "image/png": "[encoded data removed]",
      "text/plain": [
       "<Figure size 432x288 with 1 Axes>"
      ]
     },
     "metadata": {
      "needs_background": "light"
     },
     "output_type": "display_data"
    }
   ],
   "source": [
    "data=pd.DataFrame(\n",
    "    {'friend':        ['Peter','Marc','Ignacio','Marta','Marta','Ignacio','Maria','Pedro','Bea','Pedro'],\n",
    "     'favorite_food': ['Salmon','Chocolate','Hamburguer','Pizza','Apples','Pizza','Pizza','Hamburguer','Salmon','Banana'],\n",
    "     'favorite_grade':[1,5,5,3,2,3,4,4,3,1]\n",
    "    })\n",
    "\n",
    "\n",
    "scatter_matrix(data,'friend','favorite_food','favorite_grade')\n",
    "plt.show()"
   ]
  },
  {
   "cell_type": "code",
   "execution_count": null,
   "metadata": {},
   "outputs": [],
   "source": []
  }
 ],
 "metadata": {
  "kernelspec": {
   "display_name": "Python 3",
   "language": "python",
   "name": "python3"
  },
  "language_info": {
   "codemirror_mode": {
    "name": "ipython",
    "version": 3
   },
   "file_extension": ".py",
   "mimetype": "text/x-python",
   "name": "python",
   "nbconvert_exporter": "python",
   "pygments_lexer": "ipython3",
   "version": "3.6.9"
  }
 },
 "nbformat": 4,
 "nbformat_minor": 4
}
